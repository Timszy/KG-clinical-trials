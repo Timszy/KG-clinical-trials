{
 "cells": [
  {
   "cell_type": "code",
   "execution_count": 67,
   "metadata": {},
   "outputs": [],
   "source": [
    "from rdflib import Graph, Namespace, Literal\n",
    "from rdflib.plugins.sparql import prepareQuery\n",
    "from pandas import DataFrame\n",
    "import numpy as np\n",
    "from datetime import datetime\n",
    "import matplotlib.pyplot as plt"
   ]
  },
  {
   "cell_type": "code",
   "execution_count": 2,
   "metadata": {},
   "outputs": [
    {
     "data": {
      "text/plain": [
       "<Graph identifier=Nb74e78ada0d24fedbd479a3afdfe307e (<class 'rdflib.graph.Graph'>)>"
      ]
     },
     "execution_count": 2,
     "metadata": {},
     "output_type": "execute_result"
    }
   ],
   "source": [
    "from rdflib.namespace import RDF, RDFS, XSD\n",
    "CT = Namespace(\"http://example.org/clinicalTrial/\")\n",
    "XSD = Namespace(\"http://www.w3.org/2001/XMLSchema#\")\n",
    "\n",
    "g = Graph()\n",
    "g.parse(\"CT_graph.ttl\", format=\"ttl\")"
   ]
  },
  {
   "cell_type": "markdown",
   "metadata": {},
   "source": [
    "# evaluating quality"
   ]
  },
  {
   "cell_type": "code",
   "execution_count": 48,
   "metadata": {},
   "outputs": [],
   "source": [
    "Hquery = '''\n",
    "PREFIX ct: <http://example.org/clinicalTrial/>\n",
    "PREFIX xsd: <http://www.w3.org/2001/XMLSchema#>\n",
    "\n",
    "SELECT (COUNT(DISTINCT ?trial) AS ?numTrials)\n",
    "WHERE {\n",
    "  ?trial rdf:type ct:ClinicalTrial ;\n",
    "         ct:hasMedicalDetails ?medDetails .\n",
    "  ?medDetails ct:conditions ?condition .\n",
    "  FILTER(CONTAINS (?condition, \"Heart Failure\"))\n",
    "}\n",
    "'''\n",
    "\n",
    "Hresults = g.query(Hquery)"
   ]
  },
  {
   "cell_type": "code",
   "execution_count": 49,
   "metadata": {},
   "outputs": [
    {
     "name": "stdout",
     "output_type": "stream",
     "text": [
      "Number of trials with heart failure as condition: 5227\n"
     ]
    }
   ],
   "source": [
    "for row in Hresults:\n",
    "    print(f\"Number of trials with heart failure as condition: {row.numTrials}\")"
   ]
  },
  {
   "cell_type": "code",
   "execution_count": 43,
   "metadata": {},
   "outputs": [],
   "source": [
    "USquery = '''\n",
    "PREFIX ct: <http://example.org/clinicalTrial/>\n",
    "PREFIX xsd: <http://www.w3.org/2001/XMLSchema#>\n",
    "\n",
    "SELECT (COUNT(DISTINCT ?trial) AS ?numTrials)\n",
    "WHERE {\n",
    "  ?trial rdf:type ct:ClinicalTrial ;\n",
    "         ct:hasLocationInfo ?locationInfo .\n",
    "  ?locationInfo ct:locations ?location .\n",
    "  FILTER(CONTAINS(?location, \"United States\"))\n",
    "}\n",
    "'''\n",
    "USresults = g.query(USquery)"
   ]
  },
  {
   "cell_type": "code",
   "execution_count": 44,
   "metadata": {},
   "outputs": [
    {
     "name": "stdout",
     "output_type": "stream",
     "text": [
      "Number of trials in the USA: 170559\n"
     ]
    }
   ],
   "source": [
    "for row in USresults:\n",
    "    num_trials = row[0]\n",
    "    print(f\"Number of trials in the USA: {num_trials}\")"
   ]
  },
  {
   "cell_type": "code",
   "execution_count": 51,
   "metadata": {},
   "outputs": [],
   "source": [
    "IBUquery = '''\n",
    "PREFIX ct: <http://example.org/clinicalTrial/>\n",
    "PREFIX xsd: <http://www.w3.org/2001/XMLSchema#>\n",
    "\n",
    "SELECT (COUNT(DISTINCT ?trial) AS ?numTrials)\n",
    "WHERE {\n",
    "  ?trial rdf:type ct:ClinicalTrial ;\n",
    "         ct:hasMedicalDetails ?medDetails .\n",
    "  ?medDetails ct:interventions ?intervention .\n",
    "  FILTER(CONTAINS(lcase(?intervention), \"ibuprofen\"))\n",
    "}\n",
    "\n",
    "'''\n",
    "IBUresults = g.query(IBUquery)"
   ]
  },
  {
   "cell_type": "code",
   "execution_count": 52,
   "metadata": {},
   "outputs": [
    {
     "name": "stdout",
     "output_type": "stream",
     "text": [
      "Number of trials using ibuprofen: 630\n"
     ]
    }
   ],
   "source": [
    "for row in IBUresults:\n",
    "    num_ibu = row[0]\n",
    "    print(f\"Number of trials using ibuprofen: {num_ibu}\")"
   ]
  },
  {
   "cell_type": "markdown",
   "metadata": {},
   "source": [
    "# Gaining insights"
   ]
  },
  {
   "cell_type": "markdown",
   "metadata": {},
   "source": [
    "What are the most common conditions studied across all clinical trials?"
   ]
  },
  {
   "cell_type": "code",
   "execution_count": 53,
   "metadata": {},
   "outputs": [],
   "source": [
    "Comconquery = '''\n",
    "PREFIX ct: <http://example.org/clinicalTrial/>\n",
    "PREFIX xsd: <http://www.w3.org/2001/XMLSchema#>\n",
    "\n",
    "SELECT ?condition (COUNT(?trial) AS ?numTrials)\n",
    "WHERE {\n",
    "  ?trial rdf:type ct:ClinicalTrial ;\n",
    "         ct:hasMedicalDetails ?medDetails .\n",
    "  ?medDetails ct:conditions ?condition .\n",
    "}\n",
    "GROUP BY ?condition\n",
    "ORDER BY DESC(?numTrials)\n",
    "LIMIT 10\n",
    "'''\n",
    "\n",
    "Comconresults =g.query(Comconquery)"
   ]
  },
  {
   "cell_type": "code",
   "execution_count": 55,
   "metadata": {},
   "outputs": [
    {
     "data": {
      "text/html": [
       "<div>\n",
       "<style scoped>\n",
       "    .dataframe tbody tr th:only-of-type {\n",
       "        vertical-align: middle;\n",
       "    }\n",
       "\n",
       "    .dataframe tbody tr th {\n",
       "        vertical-align: top;\n",
       "    }\n",
       "\n",
       "    .dataframe thead th {\n",
       "        text-align: right;\n",
       "    }\n",
       "</style>\n",
       "<table border=\"1\" class=\"dataframe\">\n",
       "  <thead>\n",
       "    <tr style=\"text-align: right;\">\n",
       "      <th></th>\n",
       "      <th>Condition</th>\n",
       "      <th>Number of Trials</th>\n",
       "    </tr>\n",
       "  </thead>\n",
       "  <tbody>\n",
       "    <tr>\n",
       "      <th>0</th>\n",
       "      <td>Healthy</td>\n",
       "      <td>9759</td>\n",
       "    </tr>\n",
       "    <tr>\n",
       "      <th>1</th>\n",
       "      <td>Breast Cancer</td>\n",
       "      <td>7523</td>\n",
       "    </tr>\n",
       "    <tr>\n",
       "      <th>2</th>\n",
       "      <td>Obesity</td>\n",
       "      <td>6585</td>\n",
       "    </tr>\n",
       "    <tr>\n",
       "      <th>3</th>\n",
       "      <td>Stroke</td>\n",
       "      <td>4099</td>\n",
       "    </tr>\n",
       "    <tr>\n",
       "      <th>4</th>\n",
       "      <td>Hypertension</td>\n",
       "      <td>4035</td>\n",
       "    </tr>\n",
       "    <tr>\n",
       "      <th>5</th>\n",
       "      <td>Depression</td>\n",
       "      <td>3932</td>\n",
       "    </tr>\n",
       "    <tr>\n",
       "      <th>6</th>\n",
       "      <td>Prostate Cancer</td>\n",
       "      <td>3847</td>\n",
       "    </tr>\n",
       "    <tr>\n",
       "      <th>7</th>\n",
       "      <td>Pain</td>\n",
       "      <td>3798</td>\n",
       "    </tr>\n",
       "    <tr>\n",
       "      <th>8</th>\n",
       "      <td>HIV Infections</td>\n",
       "      <td>3760</td>\n",
       "    </tr>\n",
       "    <tr>\n",
       "      <th>9</th>\n",
       "      <td>Asthma</td>\n",
       "      <td>3381</td>\n",
       "    </tr>\n",
       "  </tbody>\n",
       "</table>\n",
       "</div>"
      ],
      "text/plain": [
       "         Condition Number of Trials\n",
       "0          Healthy             9759\n",
       "1    Breast Cancer             7523\n",
       "2          Obesity             6585\n",
       "3           Stroke             4099\n",
       "4     Hypertension             4035\n",
       "5       Depression             3932\n",
       "6  Prostate Cancer             3847\n",
       "7             Pain             3798\n",
       "8   HIV Infections             3760\n",
       "9           Asthma             3381"
      ]
     },
     "execution_count": 55,
     "metadata": {},
     "output_type": "execute_result"
    }
   ],
   "source": [
    "dataC = DataFrame(Comconresults, columns=['Condition', 'Number of Trials'])\n",
    "\n",
    "# Display the DataFrame\n",
    "dataC"
   ]
  },
  {
   "cell_type": "markdown",
   "metadata": {},
   "source": [
    "follow up question what is the distribution of Obesity trials over the years?"
   ]
  },
  {
   "cell_type": "code",
   "execution_count": 66,
   "metadata": {},
   "outputs": [],
   "source": [
    "thickquery = '''\n",
    "PREFIX ct: <http://example.org/clinicalTrial/>\n",
    "PREFIX xsd: <http://www.w3.org/2001/XMLSchema#>\n",
    "\n",
    "SELECT ?trial ?startDate\n",
    "WHERE {\n",
    "  ?trial rdf:type ct:ClinicalTrial ;\n",
    "         ct:hasMedicalDetails ?medDetails ;\n",
    "         ct:startDate ?startDate .\n",
    "  ?medDetails ct:conditions ?condition .\n",
    "  FILTER(CONTAINS(?condition, \"Obesity\"))\n",
    "}\n",
    "ORDER BY ?startDate\n",
    "'''\n",
    "thickresults = g.query(thickquery)"
   ]
  },
  {
   "cell_type": "code",
   "execution_count": 85,
   "metadata": {},
   "outputs": [
    {
     "data": {
      "image/png": "[encoded data removed]",
      "text/plain": [
       "<Figure size 1000x500 with 1 Axes>"
      ]
     },
     "metadata": {},
     "output_type": "display_data"
    }
   ],
   "source": [
    "# Extract unique years from thickresults\n",
    "thick_unique_years = [int(row[1].split('-')[0]) for row in thickresults]\n",
    "\n",
    "\n",
    "\n",
    "# Plot the bar chart\n",
    "plt.figure(figsize=(10, 5))\n",
    "\n",
    "# Set the labels and title\n",
    "plt.hist(thick_unique_years, bins=range(1950, 2030), rwidth=0.8, color='pink', edgecolor='black')\n",
    "plt.xlabel('Year')\n",
    "plt.ylabel('Count')\n",
    "plt.title('Counts of Obesity Trials for Each Unique Year')\n",
    "\n",
    "# Show the plot\n",
    "plt.show()\n"
   ]
  },
  {
   "cell_type": "code",
   "execution_count": 76,
   "metadata": {},
   "outputs": [],
   "source": [
    "yearquery = '''\n",
    "PREFIX ct: <http://example.org/clinicalTrial/>\n",
    "PREFIX xsd: <http://www.w3.org/2001/XMLSchema#>\n",
    "\n",
    "SELECT ?trial ?startDate\n",
    "WHERE {\n",
    "  ?trial rdf:type ct:ClinicalTrial ;\n",
    "         ct:startDate ?startDate .\n",
    "}\n",
    "ORDER BY ?startDate\n",
    "'''\n",
    "yearresults = g.query(yearquery)"
   ]
  },
  {
   "cell_type": "code",
   "execution_count": 90,
   "metadata": {},
   "outputs": [
    {
     "data": {
      "image/png": "[encoded data removed]",
      "text/plain": [
       "<Figure size 1000x500 with 1 Axes>"
      ]
     },
     "metadata": {},
     "output_type": "display_data"
    }
   ],
   "source": [
    "import matplotlib.pyplot as plt\n",
    "\n",
    "# Extract unique years from yearresults\n",
    "unique_years = [int(row[1].split('-')[0]) for row in yearresults]\n",
    "\n",
    "# Create a new figure with a specific height\n",
    "plt.figure(figsize=(10, 5))\n",
    "\n",
    "# Plot the histogram with narrower bars\n",
    "plt.hist(unique_years, bins=range(1950, 2030), rwidth=0.8, color='skyblue', edgecolor='black')\n",
    "plt.xlabel('Year')\n",
    "plt.ylabel('Number of Trials')\n",
    "plt.title('Distribution of Trials Start Dates Over the Years')\n",
    "\n",
    "\n",
    "plt.show()"
   ]
  },
  {
   "cell_type": "code",
   "execution_count": 92,
   "metadata": {},
   "outputs": [
    {
     "data": {
      "text/plain": [
       "{1957: 50.0,\n",
       " 1969: 50.0,\n",
       " 1970: 50.0,\n",
       " 1972: 12.5,\n",
       " 1977: 4.166666666666666,\n",
       " 1978: 4.761904761904762,\n",
       " 1980: 10.0,\n",
       " 1981: 7.142857142857142,\n",
       " 1982: 5.555555555555555,\n",
       " 1983: 8.333333333333332,\n",
       " 1984: 6.8181818181818175,\n",
       " 1985: 13.333333333333334,\n",
       " 1986: 2.0,\n",
       " 1987: 3.1746031746031744,\n",
       " 1988: 1.0526315789473684,\n",
       " 1989: 2.9702970297029703,\n",
       " 1990: 2.2900763358778624,\n",
       " 1991: 2.185792349726776,\n",
       " 1992: 1.7857142857142856,\n",
       " 1993: 1.644736842105263,\n",
       " 1994: 0.9090909090909091,\n",
       " 1995: 1.5841584158415842,\n",
       " 1996: 0.7727975270479135,\n",
       " 1997: 0.6912442396313364,\n",
       " 1998: 1.2461059190031152,\n",
       " 1999: 1.6184971098265895,\n",
       " 2000: 1.520417028670721,\n",
       " 2001: 1.3439007580978637,\n",
       " 2002: 1.335275552318524,\n",
       " 2003: 1.3441811107180757,\n",
       " 2004: 1.9691895512391158,\n",
       " 2005: 2.0451868508405613,\n",
       " 2006: 1.9356549407813328,\n",
       " 2007: 2.131274131274131,\n",
       " 2008: 2.2846040466300415,\n",
       " 2009: 2.277191259513872,\n",
       " 2010: 2.273510161901481,\n",
       " 2011: 2.35769251760083,\n",
       " 2012: 2.3841469707916194,\n",
       " 2013: 2.181746384323017,\n",
       " 2014: 2.0418127746460115,\n",
       " 2015: 2.1024370095002065,\n",
       " 2016: 2.3752426630124472,\n",
       " 2017: 2.1505764990783245,\n",
       " 2018: 2.115138879548053,\n",
       " 2019: 1.986417115709594,\n",
       " 2020: 1.574127951489909,\n",
       " 2021: 1.6662121625306792,\n",
       " 2022: 1.848797847409079,\n",
       " 2023: 1.9223375624759707,\n",
       " 2024: 2.0993389315704842,\n",
       " 2025: 2.3346303501945527,\n",
       " 2026: 3.125}"
      ]
     },
     "execution_count": 92,
     "metadata": {},
     "output_type": "execute_result"
    }
   ],
   "source": [
    "\n",
    "unique = set(thick_unique_years)\n",
    "year_counts = {year: thick_unique_years.count(year) for year in unique}\n",
    "unique2 = set(unique_years)\n",
    "year_counts2 = {year: unique_years.count(year) for year in unique2}\n",
    "\n",
    "percentage = {year: (year_counts[year] / year_counts2[year]) * 100 for year in year_counts.keys() if year in year_counts2}\n",
    "percentage"
   ]
  },
  {
   "cell_type": "markdown",
   "metadata": {},
   "source": [
    "Which sponsors are involved in the highest number or trials?"
   ]
  },
  {
   "cell_type": "code",
   "execution_count": 59,
   "metadata": {},
   "outputs": [],
   "source": [
    "sponsorquery = '''\n",
    "PREFIX ct: <http://example.org/clinicalTrial/>\n",
    "PREFIX xsd: <http://www.w3.org/2001/XMLSchema#>\n",
    "\n",
    "SELECT ?sponsor (COUNT(?trial) AS ?numTrials)\n",
    "WHERE {\n",
    "    ?trial rdf:type ct:ClinicalTrial ;\n",
    "                ct:hasCollaborationDetails ?collabdetails .\n",
    "    ?collabdetails ct:sponsor ?sponsor .\n",
    "    \n",
    "}\n",
    "GROUP BY ?sponsor\n",
    "ORDER BY DESC(?numTrials)\n",
    "LIMIT 10\n",
    "'''\n",
    "sponsorResults = g.query(sponsorquery) "
   ]
  },
  {
   "cell_type": "code",
   "execution_count": 60,
   "metadata": {},
   "outputs": [
    {
     "data": {
      "text/html": [
       "<div>\n",
       "<style scoped>\n",
       "    .dataframe tbody tr th:only-of-type {\n",
       "        vertical-align: middle;\n",
       "    }\n",
       "\n",
       "    .dataframe tbody tr th {\n",
       "        vertical-align: top;\n",
       "    }\n",
       "\n",
       "    .dataframe thead th {\n",
       "        text-align: right;\n",
       "    }\n",
       "</style>\n",
       "<table border=\"1\" class=\"dataframe\">\n",
       "  <thead>\n",
       "    <tr style=\"text-align: right;\">\n",
       "      <th></th>\n",
       "      <th>Sponsor</th>\n",
       "      <th>Number of Trials</th>\n",
       "    </tr>\n",
       "  </thead>\n",
       "  <tbody>\n",
       "    <tr>\n",
       "      <th>0</th>\n",
       "      <td>GlaxoSmithKline</td>\n",
       "      <td>3482</td>\n",
       "    </tr>\n",
       "    <tr>\n",
       "      <th>1</th>\n",
       "      <td>National Cancer Institute (NCI)</td>\n",
       "      <td>3411</td>\n",
       "    </tr>\n",
       "    <tr>\n",
       "      <th>2</th>\n",
       "      <td>Assiut University</td>\n",
       "      <td>3373</td>\n",
       "    </tr>\n",
       "    <tr>\n",
       "      <th>3</th>\n",
       "      <td>Cairo University</td>\n",
       "      <td>3057</td>\n",
       "    </tr>\n",
       "    <tr>\n",
       "      <th>4</th>\n",
       "      <td>Pfizer</td>\n",
       "      <td>3053</td>\n",
       "    </tr>\n",
       "    <tr>\n",
       "      <th>5</th>\n",
       "      <td>AstraZeneca</td>\n",
       "      <td>3031</td>\n",
       "    </tr>\n",
       "    <tr>\n",
       "      <th>6</th>\n",
       "      <td>Assistance Publique - Hôpitaux de Paris</td>\n",
       "      <td>2961</td>\n",
       "    </tr>\n",
       "    <tr>\n",
       "      <th>7</th>\n",
       "      <td>Mayo Clinic</td>\n",
       "      <td>2777</td>\n",
       "    </tr>\n",
       "    <tr>\n",
       "      <th>8</th>\n",
       "      <td>M.D. Anderson Cancer Center</td>\n",
       "      <td>2710</td>\n",
       "    </tr>\n",
       "    <tr>\n",
       "      <th>9</th>\n",
       "      <td>Novartis Pharmaceuticals</td>\n",
       "      <td>2398</td>\n",
       "    </tr>\n",
       "  </tbody>\n",
       "</table>\n",
       "</div>"
      ],
      "text/plain": [
       "                                   Sponsor Number of Trials\n",
       "0                          GlaxoSmithKline             3482\n",
       "1          National Cancer Institute (NCI)             3411\n",
       "2                        Assiut University             3373\n",
       "3                         Cairo University             3057\n",
       "4                                   Pfizer             3053\n",
       "5                              AstraZeneca             3031\n",
       "6  Assistance Publique - Hôpitaux de Paris             2961\n",
       "7                              Mayo Clinic             2777\n",
       "8              M.D. Anderson Cancer Center             2710\n",
       "9                 Novartis Pharmaceuticals             2398"
      ]
     },
     "execution_count": 60,
     "metadata": {},
     "output_type": "execute_result"
    }
   ],
   "source": [
    "dataS = DataFrame(sponsorResults, columns=['Sponsor', 'Number of Trials'])\n",
    "dataS"
   ]
  },
  {
   "cell_type": "markdown",
   "metadata": {},
   "source": [
    "What is the average study duration up until the primary completion date and what is the average time between the primary completion date and completion date?"
   ]
  },
  {
   "cell_type": "code",
   "execution_count": null,
   "metadata": {},
   "outputs": [],
   "source": []
  },
  {
   "cell_type": "code",
   "execution_count": 63,
   "metadata": {},
   "outputs": [],
   "source": [
    "durationquery = '''\n",
    "PREFIX ct: <http://example.org/clinicalTrial/>\n",
    "PREFIX xsd: <http://www.w3.org/2001/XMLSchema#>\n",
    "\n",
    "SELECT ?trial ?startDate ?primaryCompletionDate ?completionDate\n",
    "WHERE {\n",
    "  ?trial rdf:type ct:ClinicalTrial ;\n",
    "         ct:startDate ?startDate ;\n",
    "         ct:primaryCompletionDate ?primaryCompletionDate ;\n",
    "         ct:completionDate ?completionDate .\n",
    "}\n",
    "'''\n",
    "durationresults = g.query(durationquery)"
   ]
  },
  {
   "cell_type": "code",
   "execution_count": 93,
   "metadata": {},
   "outputs": [
    {
     "name": "stdout",
     "output_type": "stream",
     "text": [
      "Average duration of clinical trials until primary completion: 921.1285448853705 days\n",
      "Average duration of clinical trials from primary completion till completion: 166.72414066386935 days\n",
      "Longest duration of duration1: 40177 days\n",
      "Shortest duration of duration1: -29 days\n",
      "Longest duration of duration2: 31777 days\n",
      "Shortest duration of duration2: -488 days\n"
     ]
    }
   ],
   "source": [
    "\n",
    "durations1 = []\n",
    "durations2 = []\n",
    "for result in durationresults:\n",
    "    start_date = datetime.strptime(result['startDate'], \"%Y-%m-%d\")\n",
    "    completion_date = datetime.strptime(result['completionDate'], \"%Y-%m-%d\")\n",
    "    primary_completion_date = datetime.strptime(result['primaryCompletionDate'], \"%Y-%m-%d\")\n",
    "\n",
    "    # Calculate duration of the trial\n",
    "    duration1 = primary_completion_date - start_date\n",
    "    durations1.append(duration1.days)\n",
    "    duration2 = completion_date - primary_completion_date\n",
    "    durations2.append(duration2.days)\n",
    "\n",
    "# Calculate average duration\n",
    "if durations1:\n",
    "    average_duration = sum(durations1) / len(durations1)\n",
    "    print(\"Average duration of clinical trials until primary completion:\", average_duration, \"days\")\n",
    "else:\n",
    "    print(\"No clinical trials found with all required dates in the graph.\")\n",
    "\n",
    "if durations2:\n",
    "    average_duration2 = sum(durations2) / len(durations2)\n",
    "    print(\"Average duration of clinical trials from primary completion till completion:\", average_duration2, \"days\")\n",
    "\n",
    "# Find the longest and shortest durations of duration1\n",
    "longest_duration1 = max(durations1)\n",
    "shortest_duration1 = min(durations1)\n",
    "\n",
    "# Find the longest and shortest durations of duration2\n",
    "longest_duration2 = max(durations2)\n",
    "shortest_duration2 = min(durations2)\n",
    "\n",
    "print(\"Longest duration of duration1:\", longest_duration1, \"days\")\n",
    "print(\"Shortest duration of duration1:\", shortest_duration1, \"days\")\n",
    "print(\"Longest duration of duration2:\", longest_duration2, \"days\")\n",
    "print(\"Shortest duration of duration2:\", shortest_duration2, \"days\")\n"
   ]
  }
 ],
 "metadata": {
  "kernelspec": {
   "display_name": "Python 3",
   "language": "python",
   "name": "python3"
  },
  "language_info": {
   "codemirror_mode": {
    "name": "ipython",
    "version": 3
   },
   "file_extension": ".py",
   "mimetype": "text/x-python",
   "name": "python",
   "nbconvert_exporter": "python",
   "pygments_lexer": "ipython3",
   "version": "3.10.11"
  }
 },
 "nbformat": 4,
 "nbformat_minor": 2
}
